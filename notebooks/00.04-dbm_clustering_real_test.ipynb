{
 "cells": [
  {
   "cell_type": "markdown",
   "id": "4a6fa7d0",
   "metadata": {
    "id": "4a6fa7d0"
   },
   "source": [
    "# Tests Using Real Dataset"
   ]
  },
  {
   "cell_type": "markdown",
   "id": "50e76106",
   "metadata": {
    "toc": true
   },
   "source": [
    "<h1>Sumário<span class=\"tocSkip\"></span></h1>\n",
    "<div class=\"toc\"><ul class=\"toc-item\"><li><span><a href=\"#Notebook-Setup\" data-toc-modified-id=\"Notebook-Setup-1\"><span class=\"toc-item-num\">1&nbsp;&nbsp;</span>Notebook Setup</a></span></li><li><span><a href=\"#Using-the-Model-Modules\" data-toc-modified-id=\"Using-the-Model-Modules-2\"><span class=\"toc-item-num\">2&nbsp;&nbsp;</span>Using the Model Modules</a></span></li></ul></div>"
   ]
  },
  {
   "cell_type": "markdown",
   "id": "1167a7cc",
   "metadata": {},
   "source": [
    "## Notebook Setup"
   ]
  },
  {
   "cell_type": "code",
   "execution_count": 1,
   "id": "1271356d",
   "metadata": {
    "ExecuteTime": {
     "end_time": "2023-02-13T18:21:19.276993Z",
     "start_time": "2023-02-13T18:21:14.391541Z"
    },
    "id": "1271356d",
    "scrolled": true
   },
   "outputs": [
    {
     "name": "stderr",
     "output_type": "stream",
     "text": [
      "[nltk_data] Downloading package stopwords to\n",
      "[nltk_data]     C:\\Users\\DanielBrugnaroDeMora\\AppData\\Roaming\\nltk_dat\n",
      "[nltk_data]     a...\n",
      "[nltk_data]   Package stopwords is already up-to-date!\n",
      "[nltk_data] Downloading package punkt to\n",
      "[nltk_data]     C:\\Users\\DanielBrugnaroDeMora\\AppData\\Roaming\\nltk_dat\n",
      "[nltk_data]     a...\n",
      "[nltk_data]   Package punkt is already up-to-date!\n",
      "[nltk_data] Downloading package wordnet to\n",
      "[nltk_data]     C:\\Users\\DanielBrugnaroDeMora\\AppData\\Roaming\\nltk_dat\n",
      "[nltk_data]     a...\n",
      "[nltk_data]   Package wordnet is already up-to-date!\n",
      "[nltk_data] Downloading package omw-1.4 to\n",
      "[nltk_data]     C:\\Users\\DanielBrugnaroDeMora\\AppData\\Roaming\\nltk_dat\n",
      "[nltk_data]     a...\n",
      "[nltk_data]   Package omw-1.4 is already up-to-date!\n"
     ]
    }
   ],
   "source": [
    "# Loading libraries\n",
    "import pandas as pd\n",
    "import numpy as np\n",
    "import nltk\n",
    "from sklearn import metrics\n",
    "from time import time\n",
    "from sklearn.datasets import fetch_20newsgroups\n",
    "from sklearn.feature_extraction.text import TfidfVectorizer\n",
    "from sklearn.decomposition import TruncatedSVD\n",
    "from sklearn.pipeline import make_pipeline\n",
    "from sklearn.preprocessing import Normalizer\n",
    "from sklearn.cluster import KMeans\n",
    "import matplotlib.pyplot as plt\n",
    "from scipy.signal import argrelextrema\n",
    "\n",
    "import sys\n",
    "sys.path.append(\"..\\src\")\n",
    "\n",
    "from models.text_models import text_cluster_model"
   ]
  },
  {
   "cell_type": "code",
   "execution_count": 2,
   "id": "17c608bf",
   "metadata": {
    "ExecuteTime": {
     "end_time": "2023-02-13T18:21:19.287974Z",
     "start_time": "2023-02-13T18:21:19.276993Z"
    },
    "id": "17c608bf"
   },
   "outputs": [],
   "source": [
    "# Initial setting\n",
    "pd.set_option('display.float_format', lambda x: '%.2f' % x)\n",
    "pd.options.display.max_colwidth = 100\n",
    "pd.set_option('display.max_columns', None)"
   ]
  },
  {
   "cell_type": "code",
   "execution_count": 3,
   "id": "126c9119",
   "metadata": {
    "ExecuteTime": {
     "end_time": "2023-02-13T18:21:19.331009Z",
     "start_time": "2023-02-13T18:21:19.300068Z"
    }
   },
   "outputs": [],
   "source": [
    "df = pd.read_csv(\"../data/processed/data.csv\", sep=\";\")\n",
    "df = df[df['input'].notna()]"
   ]
  },
  {
   "cell_type": "code",
   "execution_count": 4,
   "id": "893e515e",
   "metadata": {
    "ExecuteTime": {
     "end_time": "2023-02-13T18:21:19.361915Z",
     "start_time": "2023-02-13T18:21:19.333886Z"
    }
   },
   "outputs": [
    {
     "data": {
      "text/html": [
       "<div>\n",
       "<style scoped>\n",
       "    .dataframe tbody tr th:only-of-type {\n",
       "        vertical-align: middle;\n",
       "    }\n",
       "\n",
       "    .dataframe tbody tr th {\n",
       "        vertical-align: top;\n",
       "    }\n",
       "\n",
       "    .dataframe thead th {\n",
       "        text-align: right;\n",
       "    }\n",
       "</style>\n",
       "<table border=\"1\" class=\"dataframe\">\n",
       "  <thead>\n",
       "    <tr style=\"text-align: right;\">\n",
       "      <th></th>\n",
       "      <th>id</th>\n",
       "      <th>correlationId</th>\n",
       "      <th>conversationId</th>\n",
       "      <th>output</th>\n",
       "      <th>input</th>\n",
       "      <th>createdAt</th>\n",
       "      <th>x_input</th>\n",
       "    </tr>\n",
       "  </thead>\n",
       "  <tbody>\n",
       "    <tr>\n",
       "      <th>0</th>\n",
       "      <td>62e43eda17f36dd1505cdfdb</td>\n",
       "      <td>43fd0615-5831-4d66-b521-5113c02d24e5</td>\n",
       "      <td>00075035-4ad7-40a3-a38a-6b14f09b0d6c</td>\n",
       "      <td>Poderia perguntar de um outro jeito?</td>\n",
       "      <td>Lavouras</td>\n",
       "      <td>2022-07-29 20:11:06.283</td>\n",
       "      <td>lavoura</td>\n",
       "    </tr>\n",
       "    <tr>\n",
       "      <th>1</th>\n",
       "      <td>6328c4eafd02d23f0c8a7be2</td>\n",
       "      <td>c7c84a5b-99e8-4fcd-bff1-c946ce6bc605</td>\n",
       "      <td>00d77e76-8fbd-4ba6-a786-6afe010a9c2e</td>\n",
       "      <td>Poderia perguntar de um outro jeito?</td>\n",
       "      <td>O banco aceita casa como garantia?</td>\n",
       "      <td>2022-09-19 19:37:14.208</td>\n",
       "      <td>banco aceitar casa garantia</td>\n",
       "    </tr>\n",
       "    <tr>\n",
       "      <th>2</th>\n",
       "      <td>6328c4eafd02d293bc8a7be3</td>\n",
       "      <td>c7c84a5b-99e8-4fcd-bff1-c946ce6bc605</td>\n",
       "      <td>00d77e76-8fbd-4ba6-a786-6afe010a9c2e</td>\n",
       "      <td>Poderia perguntar de um outro jeito?</td>\n",
       "      <td>O banco aceita casa como garantia?</td>\n",
       "      <td>2022-09-19 19:37:14.211</td>\n",
       "      <td>banco aceitar casa garantia</td>\n",
       "    </tr>\n",
       "    <tr>\n",
       "      <th>3</th>\n",
       "      <td>6328c51cfd02d23bca8a7beb</td>\n",
       "      <td>c7c84a5b-99e8-4fcd-bff1-c946ce6bc605</td>\n",
       "      <td>00d77e76-8fbd-4ba6-a786-6afe010a9c2e</td>\n",
       "      <td>Poderia perguntar de um outro jeito?</td>\n",
       "      <td>O banco aceita alienação?</td>\n",
       "      <td>2022-09-19 19:38:04.870</td>\n",
       "      <td>banco aceitar alienacao</td>\n",
       "    </tr>\n",
       "    <tr>\n",
       "      <th>4</th>\n",
       "      <td>6328c51cfd02d278ee8a7bec</td>\n",
       "      <td>c7c84a5b-99e8-4fcd-bff1-c946ce6bc605</td>\n",
       "      <td>00d77e76-8fbd-4ba6-a786-6afe010a9c2e</td>\n",
       "      <td>Poderia perguntar de um outro jeito?</td>\n",
       "      <td>O banco aceita alienação?</td>\n",
       "      <td>2022-09-19 19:38:04.874</td>\n",
       "      <td>banco aceitar alienacao</td>\n",
       "    </tr>\n",
       "    <tr>\n",
       "      <th>...</th>\n",
       "      <td>...</td>\n",
       "      <td>...</td>\n",
       "      <td>...</td>\n",
       "      <td>...</td>\n",
       "      <td>...</td>\n",
       "      <td>...</td>\n",
       "      <td>...</td>\n",
       "    </tr>\n",
       "    <tr>\n",
       "      <th>1857</th>\n",
       "      <td>630e6a4f76b21bb63f3440a2</td>\n",
       "      <td>NaN</td>\n",
       "      <td>ffa362d2-f821-4593-a3ac-faae10674333</td>\n",
       "      <td>Poderia perguntar de um outro jeito?</td>\n",
       "      <td>Custeio</td>\n",
       "      <td>2022-08-30 19:51:43.166</td>\n",
       "      <td>custeio</td>\n",
       "    </tr>\n",
       "    <tr>\n",
       "      <th>1858</th>\n",
       "      <td>630e6a4f76b21bb63f3440a3</td>\n",
       "      <td>NaN</td>\n",
       "      <td>ffa362d2-f821-4593-a3ac-faae10674333</td>\n",
       "      <td>Poderia perguntar de um outro jeito?</td>\n",
       "      <td>Custeio</td>\n",
       "      <td>2022-08-30 19:51:43.170</td>\n",
       "      <td>custeio</td>\n",
       "    </tr>\n",
       "    <tr>\n",
       "      <th>1859</th>\n",
       "      <td>630e6a4f76b21bb63f3440a5</td>\n",
       "      <td>NaN</td>\n",
       "      <td>ffa362d2-f821-4593-a3ac-faae10674333</td>\n",
       "      <td>Poderia perguntar de um outro jeito?</td>\n",
       "      <td>Custeio</td>\n",
       "      <td>2022-08-30 19:51:43.777</td>\n",
       "      <td>custeio</td>\n",
       "    </tr>\n",
       "    <tr>\n",
       "      <th>1860</th>\n",
       "      <td>635acdcc6af97a2ec72e5b48</td>\n",
       "      <td>929a94bf-6b67-4f96-aeb5-ec95a0ee5395</td>\n",
       "      <td>ffba97c6-a211-4d41-a079-c50f56a76343</td>\n",
       "      <td>Poderia perguntar de um outro jeito?</td>\n",
       "      <td>Quais são os produtos disponíveis na plataforma?</td>\n",
       "      <td>2022-10-27 18:28:28.555</td>\n",
       "      <td>qual produto disponivel plataforma</td>\n",
       "    </tr>\n",
       "    <tr>\n",
       "      <th>1861</th>\n",
       "      <td>635acdcc6af97ae8ce2e5b49</td>\n",
       "      <td>929a94bf-6b67-4f96-aeb5-ec95a0ee5395</td>\n",
       "      <td>ffba97c6-a211-4d41-a079-c50f56a76343</td>\n",
       "      <td>Poderia perguntar de um outro jeito?</td>\n",
       "      <td>Quais são os produtos disponíveis na plataforma?</td>\n",
       "      <td>2022-10-27 18:28:28.561</td>\n",
       "      <td>qual produto disponivel plataforma</td>\n",
       "    </tr>\n",
       "  </tbody>\n",
       "</table>\n",
       "<p>1633 rows × 7 columns</p>\n",
       "</div>"
      ],
      "text/plain": [
       "                            id                         correlationId  \\\n",
       "0     62e43eda17f36dd1505cdfdb  43fd0615-5831-4d66-b521-5113c02d24e5   \n",
       "1     6328c4eafd02d23f0c8a7be2  c7c84a5b-99e8-4fcd-bff1-c946ce6bc605   \n",
       "2     6328c4eafd02d293bc8a7be3  c7c84a5b-99e8-4fcd-bff1-c946ce6bc605   \n",
       "3     6328c51cfd02d23bca8a7beb  c7c84a5b-99e8-4fcd-bff1-c946ce6bc605   \n",
       "4     6328c51cfd02d278ee8a7bec  c7c84a5b-99e8-4fcd-bff1-c946ce6bc605   \n",
       "...                        ...                                   ...   \n",
       "1857  630e6a4f76b21bb63f3440a2                                   NaN   \n",
       "1858  630e6a4f76b21bb63f3440a3                                   NaN   \n",
       "1859  630e6a4f76b21bb63f3440a5                                   NaN   \n",
       "1860  635acdcc6af97a2ec72e5b48  929a94bf-6b67-4f96-aeb5-ec95a0ee5395   \n",
       "1861  635acdcc6af97ae8ce2e5b49  929a94bf-6b67-4f96-aeb5-ec95a0ee5395   \n",
       "\n",
       "                            conversationId  \\\n",
       "0     00075035-4ad7-40a3-a38a-6b14f09b0d6c   \n",
       "1     00d77e76-8fbd-4ba6-a786-6afe010a9c2e   \n",
       "2     00d77e76-8fbd-4ba6-a786-6afe010a9c2e   \n",
       "3     00d77e76-8fbd-4ba6-a786-6afe010a9c2e   \n",
       "4     00d77e76-8fbd-4ba6-a786-6afe010a9c2e   \n",
       "...                                    ...   \n",
       "1857  ffa362d2-f821-4593-a3ac-faae10674333   \n",
       "1858  ffa362d2-f821-4593-a3ac-faae10674333   \n",
       "1859  ffa362d2-f821-4593-a3ac-faae10674333   \n",
       "1860  ffba97c6-a211-4d41-a079-c50f56a76343   \n",
       "1861  ffba97c6-a211-4d41-a079-c50f56a76343   \n",
       "\n",
       "                                    output  \\\n",
       "0     Poderia perguntar de um outro jeito?   \n",
       "1     Poderia perguntar de um outro jeito?   \n",
       "2     Poderia perguntar de um outro jeito?   \n",
       "3     Poderia perguntar de um outro jeito?   \n",
       "4     Poderia perguntar de um outro jeito?   \n",
       "...                                    ...   \n",
       "1857  Poderia perguntar de um outro jeito?   \n",
       "1858  Poderia perguntar de um outro jeito?   \n",
       "1859  Poderia perguntar de um outro jeito?   \n",
       "1860  Poderia perguntar de um outro jeito?   \n",
       "1861  Poderia perguntar de um outro jeito?   \n",
       "\n",
       "                                                 input  \\\n",
       "0                                             Lavouras   \n",
       "1                   O banco aceita casa como garantia?   \n",
       "2                   O banco aceita casa como garantia?   \n",
       "3                            O banco aceita alienação?   \n",
       "4                            O banco aceita alienação?   \n",
       "...                                                ...   \n",
       "1857                                           Custeio   \n",
       "1858                                           Custeio   \n",
       "1859                                           Custeio   \n",
       "1860  Quais são os produtos disponíveis na plataforma?   \n",
       "1861  Quais são os produtos disponíveis na plataforma?   \n",
       "\n",
       "                    createdAt                              x_input  \n",
       "0     2022-07-29 20:11:06.283                              lavoura  \n",
       "1     2022-09-19 19:37:14.208         banco aceitar casa garantia   \n",
       "2     2022-09-19 19:37:14.211         banco aceitar casa garantia   \n",
       "3     2022-09-19 19:38:04.870             banco aceitar alienacao   \n",
       "4     2022-09-19 19:38:04.874             banco aceitar alienacao   \n",
       "...                       ...                                  ...  \n",
       "1857  2022-08-30 19:51:43.166                              custeio  \n",
       "1858  2022-08-30 19:51:43.170                              custeio  \n",
       "1859  2022-08-30 19:51:43.777                              custeio  \n",
       "1860  2022-10-27 18:28:28.555  qual produto disponivel plataforma   \n",
       "1861  2022-10-27 18:28:28.561  qual produto disponivel plataforma   \n",
       "\n",
       "[1633 rows x 7 columns]"
      ]
     },
     "execution_count": 4,
     "metadata": {},
     "output_type": "execute_result"
    }
   ],
   "source": [
    "df"
   ]
  },
  {
   "cell_type": "code",
   "execution_count": 5,
   "id": "vSoCLxhNrNOw",
   "metadata": {
    "ExecuteTime": {
     "end_time": "2023-02-13T18:21:19.377905Z",
     "start_time": "2023-02-13T18:21:19.363883Z"
    },
    "id": "vSoCLxhNrNOw"
   },
   "outputs": [],
   "source": [
    "dataset = df[\"x_input\"].astype(str).to_list()"
   ]
  },
  {
   "cell_type": "markdown",
   "id": "768681a8",
   "metadata": {
    "id": "768681a8"
   },
   "source": [
    "## Using the Model Modules"
   ]
  },
  {
   "cell_type": "code",
   "execution_count": 6,
   "id": "b3fd43f4",
   "metadata": {
    "ExecuteTime": {
     "end_time": "2023-02-13T18:21:19.393047Z",
     "start_time": "2023-02-13T18:21:19.379884Z"
    }
   },
   "outputs": [],
   "source": [
    "modeller = text_cluster_model(dataset, True)"
   ]
  },
  {
   "cell_type": "code",
   "execution_count": 7,
   "id": "ryAj1vvHre0O",
   "metadata": {
    "ExecuteTime": {
     "end_time": "2023-02-13T18:21:19.421897Z",
     "start_time": "2023-02-13T18:21:19.393047Z"
    },
    "colab": {
     "base_uri": "https://localhost:8080/"
    },
    "id": "ryAj1vvHre0O",
    "outputId": "e9e1daef-35be-4aac-9a80-de37cabf73a7"
   },
   "outputs": [
    {
     "name": "stderr",
     "output_type": "stream",
     "text": [
      "2023-02-13 15:21:19,406 - models.text_models - INFO - vectorization done in 0.013 s\n",
      "2023-02-13 15:21:19,406 - models.text_models - INFO - n_samples: 1633, n_features: 155\n",
      "2023-02-13 15:21:19,406 - models.text_models - INFO - We find that around 1.13% of the entries of the X_tfidf matrix are non-zero\n"
     ]
    }
   ],
   "source": [
    "features, vectorizer = modeller.extract_features()"
   ]
  },
  {
   "cell_type": "code",
   "execution_count": 8,
   "id": "Lsxc7cIEspjK",
   "metadata": {
    "ExecuteTime": {
     "end_time": "2023-02-13T18:21:20.295525Z",
     "start_time": "2023-02-13T18:21:19.421897Z"
    },
    "colab": {
     "base_uri": "https://localhost:8080/",
     "height": 791
    },
    "id": "Lsxc7cIEspjK",
    "outputId": "615acce2-7b2d-4741-a2e6-8e313a4ef59c"
   },
   "outputs": [
    {
     "name": "stderr",
     "output_type": "stream",
     "text": [
      "..\\src\\models\\text_models.py:201: UserWarning: Matplotlib is currently using module://matplotlib_inline.backend_inline, which is a non-GUI backend, so cannot show the figure.\n",
      "  self.__plot_lsa__(svd).show()\n"
     ]
    },
    {
     "data": {
      "image/png": "[encoded data removed]",
      "text/plain": [
       "<Figure size 800x600 with 1 Axes>"
      ]
     },
     "metadata": {},
     "output_type": "display_data"
    },
    {
     "data": {
      "image/png": "[encoded data removed]",
      "text/plain": [
       "<Figure size 800x600 with 1 Axes>"
      ]
     },
     "metadata": {},
     "output_type": "display_data"
    }
   ],
   "source": [
    "reduced_features, tsvd_var_ratios = modeller.reduce_dimensions(features)"
   ]
  },
  {
   "cell_type": "code",
   "execution_count": 9,
   "id": "JuMn5aMCt5Ke",
   "metadata": {
    "ExecuteTime": {
     "end_time": "2023-02-13T18:21:20.383153Z",
     "start_time": "2023-02-13T18:21:20.302212Z"
    },
    "colab": {
     "base_uri": "https://localhost:8080/"
    },
    "id": "JuMn5aMCt5Ke",
    "outputId": "7c5a6b06-0f14-4fab-8fd7-b181223989f8"
   },
   "outputs": [
    {
     "name": "stderr",
     "output_type": "stream",
     "text": [
      "2023-02-13 15:21:20,304 - models.text_models - INFO - Optimized number of components: 61\n",
      "2023-02-13 15:21:20,379 - models.text_models - INFO - LSA done in 0.073 s\n",
      "2023-02-13 15:21:20,379 - models.text_models - INFO - Explained variance of the SVD step: 80.3%\n"
     ]
    }
   ],
   "source": [
    "x_lsa, lsa = modeller.optimize_components_number(reduced_features, tsvd_var_ratios, .8)"
   ]
  },
  {
   "cell_type": "code",
   "execution_count": 10,
   "id": "81cab109",
   "metadata": {
    "ExecuteTime": {
     "end_time": "2023-02-13T18:21:20.399148Z",
     "start_time": "2023-02-13T18:21:20.385152Z"
    }
   },
   "outputs": [
    {
     "data": {
      "text/plain": [
       "sklearn.pipeline.Pipeline"
      ]
     },
     "execution_count": 10,
     "metadata": {},
     "output_type": "execute_result"
    }
   ],
   "source": [
    "type(lsa)"
   ]
  },
  {
   "cell_type": "code",
   "execution_count": 11,
   "id": "xOAP3y7LxdE9",
   "metadata": {
    "ExecuteTime": {
     "end_time": "2023-02-13T18:21:23.913727Z",
     "start_time": "2023-02-13T18:21:20.402149Z"
    },
    "colab": {
     "base_uri": "https://localhost:8080/",
     "height": 792
    },
    "id": "xOAP3y7LxdE9",
    "outputId": "d51af562-0ffb-4708-b47b-bb718beb8b7e"
   },
   "outputs": [
    {
     "name": "stderr",
     "output_type": "stream",
     "text": [
      "..\\src\\models\\text_models.py:302: UserWarning: Matplotlib is currently using module://matplotlib_inline.backend_inline, which is a non-GUI backend, so cannot show the figure.\n",
      "  self.__plot_elbow__(ks, inertias).show()\n",
      "..\\src\\models\\text_models.py:305: UserWarning: Matplotlib is currently using module://matplotlib_inline.backend_inline, which is a non-GUI backend, so cannot show the figure.\n",
      "  self.__plot_silhouette__(df_ss['n_cluster'], df_ss['ss_indexes']).show()\n"
     ]
    },
    {
     "data": {
      "image/png": "[encoded data removed]",
      "text/plain": [
       "<Figure size 800x600 with 1 Axes>"
      ]
     },
     "metadata": {},
     "output_type": "display_data"
    },
    {
     "data": {
      "image/png": "[encoded data removed]",
      "text/plain": [
       "<Figure size 1000x600 with 1 Axes>"
      ]
     },
     "metadata": {},
     "output_type": "display_data"
    }
   ],
   "source": [
    "n_cluster = modeller.optimize_clusters_number(x_lsa)"
   ]
  },
  {
   "cell_type": "code",
   "execution_count": 12,
   "id": "gwsU2akMYLgR",
   "metadata": {
    "ExecuteTime": {
     "end_time": "2023-02-13T18:21:24.065710Z",
     "start_time": "2023-02-13T18:21:23.916727Z"
    },
    "colab": {
     "base_uri": "https://localhost:8080/"
    },
    "id": "gwsU2akMYLgR",
    "outputId": "153efe1c-5c16-47ee-b5c6-e8943c15c92c"
   },
   "outputs": [
    {
     "name": "stdout",
     "output_type": "stream",
     "text": [
      "Cluster 0: custeio limite fazer prazo qual querer agricola pronamp pecuario poder \n",
      "\n",
      "Cluster 1: credito rural prazo conseguir obter livre saber contratar sobre limite \n",
      "\n",
      "Cluster 2: testir linha conseguir car documento documentacao obter prazo embargo financiamento \n",
      "\n",
      "Cluster 3: poder cpr contratar querer documento qual sobre fazer prazo valor \n",
      "\n",
      "Cluster 4: investimento pecuario prazo custeio taxa pronamp qual car suinoculturo contratacao \n",
      "\n",
      "Cluster 5: linha creditar testir bom bem credito ai embargo pagamento financiamento \n",
      "\n",
      "Cluster 6: avaliacao propriedade validade sobre legal fazer reserva prazo responsavel saber \n",
      "\n"
     ]
    }
   ],
   "source": [
    "kmeans = modeller.cluster_texts(x_lsa, 7, lsa, vectorizer)"
   ]
  },
  {
   "cell_type": "code",
   "execution_count": 13,
   "id": "8f049c85",
   "metadata": {
    "ExecuteTime": {
     "end_time": "2023-02-13T18:21:24.216802Z",
     "start_time": "2023-02-13T18:21:24.069708Z"
    }
   },
   "outputs": [],
   "source": [
    "df_output = modeller.format_results(df, x_lsa, kmeans)"
   ]
  },
  {
   "cell_type": "code",
   "execution_count": 14,
   "id": "f4bb9001",
   "metadata": {
    "ExecuteTime": {
     "end_time": "2023-02-13T18:24:30.332432Z",
     "start_time": "2023-02-13T18:24:30.307740Z"
    }
   },
   "outputs": [
    {
     "data": {
      "text/html": [
       "<div>\n",
       "<style scoped>\n",
       "    .dataframe tbody tr th:only-of-type {\n",
       "        vertical-align: middle;\n",
       "    }\n",
       "\n",
       "    .dataframe tbody tr th {\n",
       "        vertical-align: top;\n",
       "    }\n",
       "\n",
       "    .dataframe thead th {\n",
       "        text-align: right;\n",
       "    }\n",
       "</style>\n",
       "<table border=\"1\" class=\"dataframe\">\n",
       "  <thead>\n",
       "    <tr style=\"text-align: right;\">\n",
       "      <th></th>\n",
       "      <th>id</th>\n",
       "      <th>correlationId</th>\n",
       "      <th>conversationId</th>\n",
       "      <th>output</th>\n",
       "      <th>input</th>\n",
       "      <th>createdAt</th>\n",
       "      <th>x_input</th>\n",
       "      <th>predict</th>\n",
       "    </tr>\n",
       "  </thead>\n",
       "  <tbody>\n",
       "    <tr>\n",
       "      <th>0</th>\n",
       "      <td>62e43eda17f36dd1505cdfdb</td>\n",
       "      <td>43fd0615-5831-4d66-b521-5113c02d24e5</td>\n",
       "      <td>00075035-4ad7-40a3-a38a-6b14f09b0d6c</td>\n",
       "      <td>Poderia perguntar de um outro jeito?</td>\n",
       "      <td>Lavouras</td>\n",
       "      <td>2022-07-29 20:11:06.283</td>\n",
       "      <td>lavoura</td>\n",
       "      <td>3</td>\n",
       "    </tr>\n",
       "    <tr>\n",
       "      <th>1</th>\n",
       "      <td>6328c4eafd02d23f0c8a7be2</td>\n",
       "      <td>c7c84a5b-99e8-4fcd-bff1-c946ce6bc605</td>\n",
       "      <td>00d77e76-8fbd-4ba6-a786-6afe010a9c2e</td>\n",
       "      <td>Poderia perguntar de um outro jeito?</td>\n",
       "      <td>O banco aceita casa como garantia?</td>\n",
       "      <td>2022-09-19 19:37:14.208</td>\n",
       "      <td>banco aceitar casa garantia</td>\n",
       "      <td>3</td>\n",
       "    </tr>\n",
       "    <tr>\n",
       "      <th>2</th>\n",
       "      <td>6328c4eafd02d293bc8a7be3</td>\n",
       "      <td>c7c84a5b-99e8-4fcd-bff1-c946ce6bc605</td>\n",
       "      <td>00d77e76-8fbd-4ba6-a786-6afe010a9c2e</td>\n",
       "      <td>Poderia perguntar de um outro jeito?</td>\n",
       "      <td>O banco aceita casa como garantia?</td>\n",
       "      <td>2022-09-19 19:37:14.211</td>\n",
       "      <td>banco aceitar casa garantia</td>\n",
       "      <td>3</td>\n",
       "    </tr>\n",
       "    <tr>\n",
       "      <th>3</th>\n",
       "      <td>6328c51cfd02d23bca8a7beb</td>\n",
       "      <td>c7c84a5b-99e8-4fcd-bff1-c946ce6bc605</td>\n",
       "      <td>00d77e76-8fbd-4ba6-a786-6afe010a9c2e</td>\n",
       "      <td>Poderia perguntar de um outro jeito?</td>\n",
       "      <td>O banco aceita alienação?</td>\n",
       "      <td>2022-09-19 19:38:04.870</td>\n",
       "      <td>banco aceitar alienacao</td>\n",
       "      <td>3</td>\n",
       "    </tr>\n",
       "    <tr>\n",
       "      <th>4</th>\n",
       "      <td>6328c51cfd02d278ee8a7bec</td>\n",
       "      <td>c7c84a5b-99e8-4fcd-bff1-c946ce6bc605</td>\n",
       "      <td>00d77e76-8fbd-4ba6-a786-6afe010a9c2e</td>\n",
       "      <td>Poderia perguntar de um outro jeito?</td>\n",
       "      <td>O banco aceita alienação?</td>\n",
       "      <td>2022-09-19 19:38:04.874</td>\n",
       "      <td>banco aceitar alienacao</td>\n",
       "      <td>3</td>\n",
       "    </tr>\n",
       "    <tr>\n",
       "      <th>...</th>\n",
       "      <td>...</td>\n",
       "      <td>...</td>\n",
       "      <td>...</td>\n",
       "      <td>...</td>\n",
       "      <td>...</td>\n",
       "      <td>...</td>\n",
       "      <td>...</td>\n",
       "      <td>...</td>\n",
       "    </tr>\n",
       "    <tr>\n",
       "      <th>1628</th>\n",
       "      <td>630e6a4f76b21bb63f3440a2</td>\n",
       "      <td>NaN</td>\n",
       "      <td>ffa362d2-f821-4593-a3ac-faae10674333</td>\n",
       "      <td>Poderia perguntar de um outro jeito?</td>\n",
       "      <td>Custeio</td>\n",
       "      <td>2022-08-30 19:51:43.166</td>\n",
       "      <td>custeio</td>\n",
       "      <td>0</td>\n",
       "    </tr>\n",
       "    <tr>\n",
       "      <th>1629</th>\n",
       "      <td>630e6a4f76b21bb63f3440a3</td>\n",
       "      <td>NaN</td>\n",
       "      <td>ffa362d2-f821-4593-a3ac-faae10674333</td>\n",
       "      <td>Poderia perguntar de um outro jeito?</td>\n",
       "      <td>Custeio</td>\n",
       "      <td>2022-08-30 19:51:43.170</td>\n",
       "      <td>custeio</td>\n",
       "      <td>0</td>\n",
       "    </tr>\n",
       "    <tr>\n",
       "      <th>1630</th>\n",
       "      <td>630e6a4f76b21bb63f3440a5</td>\n",
       "      <td>NaN</td>\n",
       "      <td>ffa362d2-f821-4593-a3ac-faae10674333</td>\n",
       "      <td>Poderia perguntar de um outro jeito?</td>\n",
       "      <td>Custeio</td>\n",
       "      <td>2022-08-30 19:51:43.777</td>\n",
       "      <td>custeio</td>\n",
       "      <td>0</td>\n",
       "    </tr>\n",
       "    <tr>\n",
       "      <th>1631</th>\n",
       "      <td>635acdcc6af97a2ec72e5b48</td>\n",
       "      <td>929a94bf-6b67-4f96-aeb5-ec95a0ee5395</td>\n",
       "      <td>ffba97c6-a211-4d41-a079-c50f56a76343</td>\n",
       "      <td>Poderia perguntar de um outro jeito?</td>\n",
       "      <td>Quais são os produtos disponíveis na plataforma?</td>\n",
       "      <td>2022-10-27 18:28:28.555</td>\n",
       "      <td>qual produto disponivel plataforma</td>\n",
       "      <td>3</td>\n",
       "    </tr>\n",
       "    <tr>\n",
       "      <th>1632</th>\n",
       "      <td>635acdcc6af97ae8ce2e5b49</td>\n",
       "      <td>929a94bf-6b67-4f96-aeb5-ec95a0ee5395</td>\n",
       "      <td>ffba97c6-a211-4d41-a079-c50f56a76343</td>\n",
       "      <td>Poderia perguntar de um outro jeito?</td>\n",
       "      <td>Quais são os produtos disponíveis na plataforma?</td>\n",
       "      <td>2022-10-27 18:28:28.561</td>\n",
       "      <td>qual produto disponivel plataforma</td>\n",
       "      <td>3</td>\n",
       "    </tr>\n",
       "  </tbody>\n",
       "</table>\n",
       "<p>1633 rows × 8 columns</p>\n",
       "</div>"
      ],
      "text/plain": [
       "                            id                         correlationId  \\\n",
       "0     62e43eda17f36dd1505cdfdb  43fd0615-5831-4d66-b521-5113c02d24e5   \n",
       "1     6328c4eafd02d23f0c8a7be2  c7c84a5b-99e8-4fcd-bff1-c946ce6bc605   \n",
       "2     6328c4eafd02d293bc8a7be3  c7c84a5b-99e8-4fcd-bff1-c946ce6bc605   \n",
       "3     6328c51cfd02d23bca8a7beb  c7c84a5b-99e8-4fcd-bff1-c946ce6bc605   \n",
       "4     6328c51cfd02d278ee8a7bec  c7c84a5b-99e8-4fcd-bff1-c946ce6bc605   \n",
       "...                        ...                                   ...   \n",
       "1628  630e6a4f76b21bb63f3440a2                                   NaN   \n",
       "1629  630e6a4f76b21bb63f3440a3                                   NaN   \n",
       "1630  630e6a4f76b21bb63f3440a5                                   NaN   \n",
       "1631  635acdcc6af97a2ec72e5b48  929a94bf-6b67-4f96-aeb5-ec95a0ee5395   \n",
       "1632  635acdcc6af97ae8ce2e5b49  929a94bf-6b67-4f96-aeb5-ec95a0ee5395   \n",
       "\n",
       "                            conversationId  \\\n",
       "0     00075035-4ad7-40a3-a38a-6b14f09b0d6c   \n",
       "1     00d77e76-8fbd-4ba6-a786-6afe010a9c2e   \n",
       "2     00d77e76-8fbd-4ba6-a786-6afe010a9c2e   \n",
       "3     00d77e76-8fbd-4ba6-a786-6afe010a9c2e   \n",
       "4     00d77e76-8fbd-4ba6-a786-6afe010a9c2e   \n",
       "...                                    ...   \n",
       "1628  ffa362d2-f821-4593-a3ac-faae10674333   \n",
       "1629  ffa362d2-f821-4593-a3ac-faae10674333   \n",
       "1630  ffa362d2-f821-4593-a3ac-faae10674333   \n",
       "1631  ffba97c6-a211-4d41-a079-c50f56a76343   \n",
       "1632  ffba97c6-a211-4d41-a079-c50f56a76343   \n",
       "\n",
       "                                    output  \\\n",
       "0     Poderia perguntar de um outro jeito?   \n",
       "1     Poderia perguntar de um outro jeito?   \n",
       "2     Poderia perguntar de um outro jeito?   \n",
       "3     Poderia perguntar de um outro jeito?   \n",
       "4     Poderia perguntar de um outro jeito?   \n",
       "...                                    ...   \n",
       "1628  Poderia perguntar de um outro jeito?   \n",
       "1629  Poderia perguntar de um outro jeito?   \n",
       "1630  Poderia perguntar de um outro jeito?   \n",
       "1631  Poderia perguntar de um outro jeito?   \n",
       "1632  Poderia perguntar de um outro jeito?   \n",
       "\n",
       "                                                 input  \\\n",
       "0                                             Lavouras   \n",
       "1                   O banco aceita casa como garantia?   \n",
       "2                   O banco aceita casa como garantia?   \n",
       "3                            O banco aceita alienação?   \n",
       "4                            O banco aceita alienação?   \n",
       "...                                                ...   \n",
       "1628                                           Custeio   \n",
       "1629                                           Custeio   \n",
       "1630                                           Custeio   \n",
       "1631  Quais são os produtos disponíveis na plataforma?   \n",
       "1632  Quais são os produtos disponíveis na plataforma?   \n",
       "\n",
       "                    createdAt                              x_input  predict  \n",
       "0     2022-07-29 20:11:06.283                              lavoura        3  \n",
       "1     2022-09-19 19:37:14.208         banco aceitar casa garantia         3  \n",
       "2     2022-09-19 19:37:14.211         banco aceitar casa garantia         3  \n",
       "3     2022-09-19 19:38:04.870             banco aceitar alienacao         3  \n",
       "4     2022-09-19 19:38:04.874             banco aceitar alienacao         3  \n",
       "...                       ...                                  ...      ...  \n",
       "1628  2022-08-30 19:51:43.166                              custeio        0  \n",
       "1629  2022-08-30 19:51:43.170                              custeio        0  \n",
       "1630  2022-08-30 19:51:43.777                              custeio        0  \n",
       "1631  2022-10-27 18:28:28.555  qual produto disponivel plataforma         3  \n",
       "1632  2022-10-27 18:28:28.561  qual produto disponivel plataforma         3  \n",
       "\n",
       "[1633 rows x 8 columns]"
      ]
     },
     "execution_count": 14,
     "metadata": {},
     "output_type": "execute_result"
    }
   ],
   "source": [
    "df_output"
   ]
  }
 ],
 "metadata": {
  "colab": {
   "provenance": []
  },
  "kernelspec": {
   "display_name": "Python 3 (ipykernel)",
   "language": "python",
   "name": "python3"
  },
  "language_info": {
   "codemirror_mode": {
    "name": "ipython",
    "version": 3
   },
   "file_extension": ".py",
   "mimetype": "text/x-python",
   "name": "python",
   "nbconvert_exporter": "python",
   "pygments_lexer": "ipython3",
   "version": "3.7.16"
  },
  "toc": {
   "base_numbering": 1,
   "nav_menu": {},
   "number_sections": true,
   "sideBar": true,
   "skip_h1_title": true,
   "title_cell": "Sumário",
   "title_sidebar": "Sumário",
   "toc_cell": true,
   "toc_position": {
    "height": "calc(100% - 180px)",
    "left": "10px",
    "top": "150px",
    "width": "224px"
   },
   "toc_section_display": true,
   "toc_window_display": true
  },
  "vscode": {
   "interpreter": {
    "hash": "62a947cc0321b6ef74d2a918ae1830c8f2a06d1e8042159e7eadd9186ed6c2ee"
   }
  }
 },
 "nbformat": 4,
 "nbformat_minor": 5
}
