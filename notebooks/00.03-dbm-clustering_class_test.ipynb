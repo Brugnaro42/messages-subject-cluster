{
  "cells": [
    {
      "cell_type": "markdown",
      "id": "4a6fa7d0",
      "metadata": {
        "id": "4a6fa7d0"
      },
      "source": [
        "## Wikipedia Articles Clustering (NLP)\n",
        "`EDA (Exploratory Data Analysis)`\n",
        "\n",
        "**Abstract**: We load data from The 20 newsgroups text dataset, which comprises around 18,000 newsgroups posts on 20 topics. For illustrative purposes and to reduce the computational cost, we select a subset of 4 topics only accounting for around 3,400 documents. See the example Classification of text documents using sparse features to gain intuition on the overlap of such topics. <br>\n",
        "**Source**: https://scikit-learn.org/stable/datasets/real_world.html#newsgroups-dataset"
      ]
    },
    {
      "cell_type": "code",
      "execution_count": 9,
      "id": "1271356d",
      "metadata": {
        "id": "1271356d"
      },
      "outputs": [],
      "source": [
        "# Loading libraries\n",
        "import pandas as pd\n",
        "import numpy as np\n",
        "import nltk\n",
        "from sklearn import metrics\n",
        "from time import time\n",
        "from sklearn.datasets import fetch_20newsgroups\n",
        "from sklearn.feature_extraction.text import TfidfVectorizer\n",
        "from sklearn.decomposition import TruncatedSVD\n",
        "from sklearn.pipeline import make_pipeline\n",
        "from sklearn.preprocessing import Normalizer\n",
        "from sklearn.cluster import KMeans\n",
        "import matplotlib.pyplot as plt\n",
        "from scipy.signal import argrelextrema"
      ]
    },
    {
      "cell_type": "code",
      "execution_count": 10,
      "id": "ad0fdd7f",
      "metadata": {
        "colab": {
          "base_uri": "https://localhost:8080/"
        },
        "id": "ad0fdd7f",
        "outputId": "239df22b-a322-4f26-b423-85c2c851d84e"
      },
      "outputs": [
        {
          "name": "stderr",
          "output_type": "stream",
          "text": [
            "[nltk_data] Downloading package stopwords to /root/nltk_data...\n",
            "[nltk_data]   Package stopwords is already up-to-date!\n"
          ]
        },
        {
          "data": {
            "text/plain": [
              "True"
            ]
          },
          "execution_count": 10,
          "metadata": {},
          "output_type": "execute_result"
        }
      ],
      "source": [
        "nltk.download('stopwords')"
      ]
    },
    {
      "cell_type": "code",
      "execution_count": 11,
      "id": "17c608bf",
      "metadata": {
        "id": "17c608bf"
      },
      "outputs": [],
      "source": [
        "# Initial setting\n",
        "pd.set_option('display.float_format', lambda x: '%.2f' % x)\n",
        "pd.options.display.max_colwidth = 100\n",
        "pd.set_option('display.max_columns', None)"
      ]
    },
    {
      "cell_type": "code",
      "execution_count": 12,
      "id": "90de5276",
      "metadata": {
        "colab": {
          "base_uri": "https://localhost:8080/"
        },
        "id": "90de5276",
        "outputId": "9109a016-53d0-4c40-824a-410a99d4ce34"
      },
      "outputs": [
        {
          "name": "stdout",
          "output_type": "stream",
          "text": [
            "3387 documents - 4 categories\n"
          ]
        }
      ],
      "source": [
        "# Loading the Data\n",
        "categories = [\n",
        "    \"alt.atheism\",\n",
        "    \"talk.religion.misc\",\n",
        "    \"comp.graphics\",\n",
        "    \"sci.space\"\n",
        "]\n",
        "\n",
        "dataset = fetch_20newsgroups(\n",
        "    remove=(\"headers\", \"footers\", \"quotes\"),\n",
        "    subset=\"all\",\n",
        "    categories=categories,\n",
        "    shuffle=True,\n",
        "    random_state=42,\n",
        ")\n",
        "\n",
        "labels = dataset.target\n",
        "unique_labels, category_sizes = np.unique(labels, return_counts=True)\n",
        "true_k = unique_labels.shape[0]\n",
        "\n",
        "print(f\"{len(dataset.data)} documents - {true_k} categories\")"
      ]
    },
    {
      "cell_type": "code",
      "execution_count": 13,
      "id": "2dd33c73",
      "metadata": {
        "colab": {
          "base_uri": "https://localhost:8080/",
          "height": 206
        },
        "id": "2dd33c73",
        "outputId": "a2d66f6d-3dbd-4983-b453-1a324e1d94de",
        "scrolled": true
      },
      "outputs": [
        {
          "data": {
            "text/html": [
              "\n",
              "  <div id=\"df-b5d42b78-6fe7-446a-9447-fa0eda836ca0\">\n",
              "    <div class=\"colab-df-container\">\n",
              "      <div>\n",
              "<style scoped>\n",
              "    .dataframe tbody tr th:only-of-type {\n",
              "        vertical-align: middle;\n",
              "    }\n",
              "\n",
              "    .dataframe tbody tr th {\n",
              "        vertical-align: top;\n",
              "    }\n",
              "\n",
              "    .dataframe thead th {\n",
              "        text-align: right;\n",
              "    }\n",
              "</style>\n",
              "<table border=\"1\" class=\"dataframe\">\n",
              "  <thead>\n",
              "    <tr style=\"text-align: right;\">\n",
              "      <th></th>\n",
              "      <th>text</th>\n",
              "      <th>target</th>\n",
              "      <th>title</th>\n",
              "    </tr>\n",
              "  </thead>\n",
              "  <tbody>\n",
              "    <tr>\n",
              "      <th>0</th>\n",
              "      <td>My point is that you set up your views as the only way to believe.  Saying \\nthat all eveil in t...</td>\n",
              "      <td>0</td>\n",
              "      <td>alt.atheism</td>\n",
              "    </tr>\n",
              "    <tr>\n",
              "      <th>9</th>\n",
              "      <td>\\n]The \"corrupted over and over\" theory is pretty weak.  Comparison of the\\n]current hebrew tex...</td>\n",
              "      <td>0</td>\n",
              "      <td>alt.atheism</td>\n",
              "    </tr>\n",
              "    <tr>\n",
              "      <th>14</th>\n",
              "      <td>\\n\\nBut, you wouldn't know what red *was*, and you certainly couldn't judge\\nit subjectively.  A...</td>\n",
              "      <td>0</td>\n",
              "      <td>alt.atheism</td>\n",
              "    </tr>\n",
              "    <tr>\n",
              "      <th>26</th>\n",
              "      <td>\\n\\nWell I agree with you in the sense that they have no \"moral\" right to inflict\\nthese rules, ...</td>\n",
              "      <td>0</td>\n",
              "      <td>alt.atheism</td>\n",
              "    </tr>\n",
              "    <tr>\n",
              "      <th>27</th>\n",
              "      <td>\\n\\nSpecifically, which changes are you talking about?  Are you arguing\\nthat the motto is inter...</td>\n",
              "      <td>0</td>\n",
              "      <td>alt.atheism</td>\n",
              "    </tr>\n",
              "  </tbody>\n",
              "</table>\n",
              "</div>\n",
              "      <button class=\"colab-df-convert\" onclick=\"convertToInteractive('df-b5d42b78-6fe7-446a-9447-fa0eda836ca0')\"\n",
              "              title=\"Convert this dataframe to an interactive table.\"\n",
              "              style=\"display:none;\">\n",
              "        \n",
              "  <svg xmlns=\"http://www.w3.org/2000/svg\" height=\"24px\"viewBox=\"0 0 24 24\"\n",
              "       width=\"24px\">\n",
              "    <path d=\"M0 0h24v24H0V0z\" fill=\"none\"/>\n",
              "    <path d=\"M18.56 5.44l.94 2.06.94-2.06 2.06-.94-2.06-.94-.94-2.06-.94 2.06-2.06.94zm-11 1L8.5 8.5l.94-2.06 2.06-.94-2.06-.94L8.5 2.5l-.94 2.06-2.06.94zm10 10l.94 2.06.94-2.06 2.06-.94-2.06-.94-.94-2.06-.94 2.06-2.06.94z\"/><path d=\"M17.41 7.96l-1.37-1.37c-.4-.4-.92-.59-1.43-.59-.52 0-1.04.2-1.43.59L10.3 9.45l-7.72 7.72c-.78.78-.78 2.05 0 2.83L4 21.41c.39.39.9.59 1.41.59.51 0 1.02-.2 1.41-.59l7.78-7.78 2.81-2.81c.8-.78.8-2.07 0-2.86zM5.41 20L4 18.59l7.72-7.72 1.47 1.35L5.41 20z\"/>\n",
              "  </svg>\n",
              "      </button>\n",
              "      \n",
              "  <style>\n",
              "    .colab-df-container {\n",
              "      display:flex;\n",
              "      flex-wrap:wrap;\n",
              "      gap: 12px;\n",
              "    }\n",
              "\n",
              "    .colab-df-convert {\n",
              "      background-color: #E8F0FE;\n",
              "      border: none;\n",
              "      border-radius: 50%;\n",
              "      cursor: pointer;\n",
              "      display: none;\n",
              "      fill: #1967D2;\n",
              "      height: 32px;\n",
              "      padding: 0 0 0 0;\n",
              "      width: 32px;\n",
              "    }\n",
              "\n",
              "    .colab-df-convert:hover {\n",
              "      background-color: #E2EBFA;\n",
              "      box-shadow: 0px 1px 2px rgba(60, 64, 67, 0.3), 0px 1px 3px 1px rgba(60, 64, 67, 0.15);\n",
              "      fill: #174EA6;\n",
              "    }\n",
              "\n",
              "    [theme=dark] .colab-df-convert {\n",
              "      background-color: #3B4455;\n",
              "      fill: #D2E3FC;\n",
              "    }\n",
              "\n",
              "    [theme=dark] .colab-df-convert:hover {\n",
              "      background-color: #434B5C;\n",
              "      box-shadow: 0px 1px 3px 1px rgba(0, 0, 0, 0.15);\n",
              "      filter: drop-shadow(0px 1px 2px rgba(0, 0, 0, 0.3));\n",
              "      fill: #FFFFFF;\n",
              "    }\n",
              "  </style>\n",
              "\n",
              "      <script>\n",
              "        const buttonEl =\n",
              "          document.querySelector('#df-b5d42b78-6fe7-446a-9447-fa0eda836ca0 button.colab-df-convert');\n",
              "        buttonEl.style.display =\n",
              "          google.colab.kernel.accessAllowed ? 'block' : 'none';\n",
              "\n",
              "        async function convertToInteractive(key) {\n",
              "          const element = document.querySelector('#df-b5d42b78-6fe7-446a-9447-fa0eda836ca0');\n",
              "          const dataTable =\n",
              "            await google.colab.kernel.invokeFunction('convertToInteractive',\n",
              "                                                     [key], {});\n",
              "          if (!dataTable) return;\n",
              "\n",
              "          const docLinkHtml = 'Like what you see? Visit the ' +\n",
              "            '<a target=\"_blank\" href=https://colab.research.google.com/notebooks/data_table.ipynb>data table notebook</a>'\n",
              "            + ' to learn more about interactive tables.';\n",
              "          element.innerHTML = '';\n",
              "          dataTable['output_type'] = 'display_data';\n",
              "          await google.colab.output.renderOutput(dataTable, element);\n",
              "          const docLink = document.createElement('div');\n",
              "          docLink.innerHTML = docLinkHtml;\n",
              "          element.appendChild(docLink);\n",
              "        }\n",
              "      </script>\n",
              "    </div>\n",
              "  </div>\n",
              "  "
            ],
            "text/plain": [
              "                                                                                                   text  \\\n",
              "0   My point is that you set up your views as the only way to believe.  Saying \\nthat all eveil in t...   \n",
              "9    \\n]The \"corrupted over and over\" theory is pretty weak.  Comparison of the\\n]current hebrew tex...   \n",
              "14  \\n\\nBut, you wouldn't know what red *was*, and you certainly couldn't judge\\nit subjectively.  A...   \n",
              "26  \\n\\nWell I agree with you in the sense that they have no \"moral\" right to inflict\\nthese rules, ...   \n",
              "27  \\n\\nSpecifically, which changes are you talking about?  Are you arguing\\nthat the motto is inter...   \n",
              "\n",
              "   target        title  \n",
              "0       0  alt.atheism  \n",
              "9       0  alt.atheism  \n",
              "14      0  alt.atheism  \n",
              "26      0  alt.atheism  \n",
              "27      0  alt.atheism  "
            ]
          },
          "execution_count": 13,
          "metadata": {},
          "output_type": "execute_result"
        }
      ],
      "source": [
        "# Building a DataFrame structure\n",
        "df = pd.DataFrame([dataset.data, dataset.target.tolist()]).T\n",
        "df.columns = ['text', 'target']\n",
        "\n",
        "# Gathering the target names indexes\n",
        "targets = pd.DataFrame(dataset.target_names)\n",
        "targets.columns=['title']\n",
        "\n",
        "# Joining all the data into a single dataset\n",
        "out = pd.merge(df, targets, left_on='target', right_index=True)\n",
        "out.head()"
      ]
    },
    {
      "cell_type": "markdown",
      "id": "768681a8",
      "metadata": {
        "id": "768681a8"
      },
      "source": [
        "### Class to apply the model"
      ]
    },
    {
      "cell_type": "code",
      "execution_count": 13,
      "id": "vSoCLxhNrNOw",
      "metadata": {
        "id": "vSoCLxhNrNOw"
      },
      "outputs": [],
      "source": []
    },
    {
      "cell_type": "code",
      "execution_count": 70,
      "id": "94230530",
      "metadata": {
        "id": "94230530"
      },
      "outputs": [],
      "source": [
        "class text_cluster_model():\n",
        "\n",
        "    def __init__(self, dataset: list, plot_results: bool = False) -> None:\n",
        "        self.dataset = dataset\n",
        "        self.plot_results = plot_results\n",
        "        self.vectorizer = TfidfVectorizer(max_df=0.5, min_df=5, stop_words=\"english\")\n",
        "\n",
        "    @classmethod\n",
        "    def __plot_lsa__(self, svd) -> plt.figure:\n",
        "        features  = range(1, len(svd.components_))\n",
        "\n",
        "        fig = plt.figure(figsize=(8, 6))\n",
        "        plt.bar(features, svd.explained_variance_ratio_[1:])\n",
        "        plt.xlabel('SVD Features')\n",
        "        plt.ylabel('Variances')\n",
        "        plt.title('Variance per SVD Feature')\n",
        "\n",
        "        return fig\n",
        "\n",
        "    @classmethod\n",
        "    def __plot_opt_components_number__(self, x_tfidf: pd.DataFrame, svd) -> plt.figure:\n",
        "        \n",
        "        fig = plt.figure(figsize=(8, 6))\n",
        "\n",
        "        # Alternative way to upgrade the procedure performed above\n",
        "        # * Verificar o x_tfidf está correto, montar um if futuramente.\n",
        "        plt.plot(range(0, x_tfidf.shape[0]), svd.explained_variance_ratio_.cumsum()*100, \n",
        "                        marker= 'o', linestyle = '--', color = 'b')\n",
        "\n",
        "        plt.xlabel('Number of Components')\n",
        "        plt.ylabel('Cumulative Sum of Variance (%)')\n",
        "        plt.title('Optimized number of components SVD')\n",
        "        # plt.xticks(np.arange(0, max(variance['index']), step=1), rotation = 90) #change from 0-based array index to 1-based human-readable label\n",
        "\n",
        "        plt.axhline(y= 80, color='r', linestyle='-')\n",
        "        plt.text(30, 82, '80% cut-off threshold', color = 'red', fontsize=10)\n",
        "\n",
        "        return fig\n",
        "    \n",
        "    @classmethod\n",
        "    def __plot_elbow__(self, inertias: list, ks: range)-> plt.figure:\n",
        "        # Plot ks vs inertias\n",
        "        fig = plt.figure(figsize=(8, 6))\n",
        "        plt.plot(ks, inertias, '-o');\n",
        "        plt.xlabel('Número de Clusters')\n",
        "        plt.ylabel('Distorção/Inércia')\n",
        "        plt.title('Método de Elbow')\n",
        "        plt.xticks(ks)\n",
        "        \n",
        "        return fig\n",
        "\n",
        "    def extract_features(self) -> pd.DataFrame:\n",
        "        vectorizer = TfidfVectorizer(max_df=0.5, min_df=5, stop_words=\"english\")\n",
        "        t0 = time()\n",
        "        x_tfidf = vectorizer.fit_transform(self.dataset)\n",
        "\n",
        "        # ToDo: Passar para logging.info\n",
        "        print(f\"vectorization done in {time() - t0:.3f} s\")\n",
        "        print(f\"n_samples: {x_tfidf.shape[0]}, n_features: {x_tfidf.shape[1]}\")\n",
        "        print(f\"We find that around {round(x_tfidf.nnz / np.prod(x_tfidf.shape)*100, 2):.2f}% of the entries of the X_tfidf matrix are non-zero\")\n",
        "\n",
        "        return x_tfidf, vectorizer\n",
        "\n",
        "    def reduce_dimensions(self, x_tfidf: pd.DataFrame) -> pd.DataFrame:\n",
        "        # Instance of SVD\n",
        "        svd = TruncatedSVD(x_tfidf.shape[1] - 1)\n",
        "\n",
        "        # Making a pipeline for applying LSA (dimensionality reduction), and normalizing the data\n",
        "        pipeline = make_pipeline(svd, Normalizer(copy=False))\n",
        "        \n",
        "        # Pipeline Fit\n",
        "        pipeline.fit(x_tfidf)\n",
        "\n",
        "        if self.plot_results:\n",
        "            # LSA plot - Explained Variance Ratio\n",
        "            self.__plot_lsa__(svd).show()\n",
        "            \n",
        "            # Plotting the optimize number of components SVD\n",
        "            self.__plot_opt_components_number__(x_tfidf, svd)\n",
        "            \n",
        "        tsvd_var_ratios = svd.explained_variance_ratio_\n",
        "\n",
        "        return x_tfidf, tsvd_var_ratios\n",
        "    \n",
        "    def optimize_components_number(self, x_tfidf: list, var_ratio: float, goal_var: float):\n",
        "        # Set initial number of features and variance explained so far\n",
        "        total_variance, opt_n_components = 0.0, 0\n",
        "        \n",
        "        for explained_variance in var_ratio:\n",
        "            # Add the explained variance to the total\n",
        "            total_variance += explained_variance\n",
        "            # Add one to the number of components\n",
        "            opt_n_components += 1\n",
        "            \n",
        "            # If we reach our goal level of explained variance\n",
        "            if total_variance >= goal_var:\n",
        "                break\n",
        "        \n",
        "        print(f'Optimized number of components: {opt_n_components}')\n",
        "\n",
        "        # Use the number of components\n",
        "        lsa = make_pipeline(TruncatedSVD(n_components= opt_n_components), Normalizer(copy=False))\n",
        "        t0 = time()\n",
        "        x_lsa = lsa.fit_transform(x_tfidf)\n",
        "        explained_variance = lsa[0].explained_variance_ratio_.sum()\n",
        "\n",
        "        print(f\"LSA done in {time() - t0:.3f} s\")\n",
        "        print(f\"Explained variance of the SVD step: {explained_variance * 100:.1f}%\")\n",
        "        return x_lsa, lsa\n",
        "    \n",
        "    def optimize_clusters_number(self, x_lsa: list):\n",
        "        # Calculate the perfomance measures\n",
        "        # perform Elbow Method\n",
        "        ks = range(2, 16)\n",
        "        inertias = []\n",
        "        n_cluster = []\n",
        "        ss_indexes = []\n",
        "\n",
        "        for k in ks:\n",
        "            # Criação da instância do K-Means com k clusters: model\n",
        "            model = KMeans(n_clusters = k, random_state= 12345)\n",
        "            \n",
        "            # Fit do modelo ao dataset\n",
        "            model.fit(x_lsa)\n",
        "\n",
        "            # Inertia and labels append\n",
        "            inertias.append(model.inertia_)\n",
        "            labels = model.labels_\n",
        "            # print(f\"Tamanho do labels:{len(labels)}, values:{np.unique(labels)}\")\n",
        "            # print(f\"Tamanho das features:{len(x_lsa)}\")\n",
        "\n",
        "            # try:\n",
        "              # Silhouette Score\n",
        "            ss_index = metrics.silhouette_score(x_lsa, labels)\n",
        "\n",
        "            # except ValueError: \n",
        "            #   print(\"Problema dos labels\")\n",
        "            n_cluster.append(k)\n",
        "            ss_indexes.append(ss_index)\n",
        "        \n",
        "\n",
        "        df_ss = pd.DataFrame({'n_cluster': n_cluster, 'ss_indexes': ss_indexes})\n",
        "\n",
        "        # Perform local maxima method\n",
        "        max_ind = argrelextrema(df_ss['ss_indexes'].to_numpy(), np.greater)\n",
        "        n_clusters = df_ss['n_cluster'].iloc[max_ind].max()\n",
        "\n",
        "        if np.isnan(n_clusters):\n",
        "            n_clusters = df_ss.loc[df_ss['ss_indexes'] == df_ss['ss_indexes'].max()]['n_cluster'].to_list()[0]\n",
        "\n",
        "        if self.plot_results:            \n",
        "            # Plot elbow results\n",
        "            # ? Transform this into a function?\n",
        "            plt.figure(figsize=(8, 6))\n",
        "            plt.plot(ks, inertias, '-o')\n",
        "            plt.xlabel('Number of Clusters')\n",
        "            plt.ylabel('Distortion/InertiaDistorção/Inércia')\n",
        "            plt.title('Elbow Method')\n",
        "            plt.xticks(ks)\n",
        "            plt.show()\n",
        "\n",
        "            # Plotting local Maxima method\n",
        "            plt.figure(figsize=(10, 6))\n",
        "            plt.plot(df_ss['n_cluster'], df_ss['ss_indexes'], '-')\n",
        "            plt.xlabel('n_cluster')\n",
        "            plt.ylabel('ss_indexes')\n",
        "            plt.title('Local Maxima')\n",
        "            plt.show()\n",
        "\n",
        "        else:\n",
        "            #ToDo: Warn the user that this method needs to set self.plot equals True\n",
        "            #ToDo: return the diagnosis analysis into a DataFrame\n",
        "            print('')\n",
        "        #ToDo: Trocar n_clusters por n_cluster\n",
        "        return n_clusters\n",
        "            \n",
        "    def cluster_texts(self, x_lsa, n_clusters, lsa, vectorizer):\n",
        "        # K-Means instance\n",
        "        kmeans = KMeans(n_clusters= n_clusters, random_state= 12345)\n",
        "\n",
        "        # Model Fit\n",
        "        kmeans.fit(x_lsa)\n",
        "\n",
        "        original_space_centroids = lsa[0].inverse_transform(kmeans.cluster_centers_)\n",
        "        order_centroids = original_space_centroids.argsort()[:, ::-1]\n",
        "        terms = vectorizer.get_feature_names_out()\n",
        "\n",
        "        for i in range(true_k):\n",
        "            print(f\"Cluster {i}: \", end=\"\")\n",
        "            for ind in order_centroids[i, :10]:\n",
        "                print(f\"{terms[ind]} \", end=\"\")\n",
        "          \n",
        "\n",
        "modeller = text_cluster_model(dataset.data, True)"
      ]
    },
    {
      "cell_type": "code",
      "execution_count": 68,
      "id": "ryAj1vvHre0O",
      "metadata": {
        "colab": {
          "base_uri": "https://localhost:8080/"
        },
        "id": "ryAj1vvHre0O",
        "outputId": "05707f54-634d-4cbe-91a7-515ac0141f1d"
      },
      "outputs": [
        {
          "name": "stdout",
          "output_type": "stream",
          "text": [
            "vectorization done in 0.505 s\n",
            "n_samples: 3387, n_features: 7929\n",
            "We find that around 0.69% of the entries of the X_tfidf matrix are non-zero\n"
          ]
        }
      ],
      "source": [
        "features, vectorizer = modeller.extract_features()"
      ]
    },
    {
      "cell_type": "code",
      "execution_count": 19,
      "id": "Lsxc7cIEspjK",
      "metadata": {
        "colab": {
          "base_uri": "https://localhost:8080/",
          "height": 791
        },
        "id": "Lsxc7cIEspjK",
        "outputId": "fd9a971d-5a2f-46e8-d8b5-95792f874912"
      },
      "outputs": [
        {
          "data": {
            "image/png": "[encoded data removed]",
            "text/plain": [
              "<Figure size 576x432 with 1 Axes>"
            ]
          },
          "metadata": {
            "needs_background": "light"
          },
          "output_type": "display_data"
        },
        {
          "data": {
            "image/png": "[encoded data removed]",
            "text/plain": [
              "<Figure size 576x432 with 1 Axes>"
            ]
          },
          "metadata": {
            "needs_background": "light"
          },
          "output_type": "display_data"
        }
      ],
      "source": [
        "reduced_features, tsvd_var_ratios = modeller.reduce_dimensions(features)"
      ]
    },
    {
      "cell_type": "code",
      "execution_count": 62,
      "id": "JuMn5aMCt5Ke",
      "metadata": {
        "colab": {
          "base_uri": "https://localhost:8080/"
        },
        "id": "JuMn5aMCt5Ke",
        "outputId": "7d7a71ce-5436-4c1e-8d28-f441d903d6b6"
      },
      "outputs": [
        {
          "name": "stdout",
          "output_type": "stream",
          "text": [
            "Optimized number of components: 1298\n",
            "LSA done in 20.121 s\n",
            "Explained variance of the SVD step: 79.7%\n"
          ]
        }
      ],
      "source": [
        "x_lsa, lsa = modeller.optimize_components_number(reduced_features, tsvd_var_ratios, .8)"
      ]
    },
    {
      "cell_type": "code",
      "execution_count": 42,
      "id": "xOAP3y7LxdE9",
      "metadata": {
        "colab": {
          "base_uri": "https://localhost:8080/",
          "height": 792
        },
        "id": "xOAP3y7LxdE9",
        "outputId": "52e20939-d28c-4929-d47c-0793a478e5db"
      },
      "outputs": [
        {
          "data": {
            "image/png": "[encoded data removed]",
            "text/plain": [
              "<Figure size 576x432 with 1 Axes>"
            ]
          },
          "metadata": {
            "needs_background": "light"
          },
          "output_type": "display_data"
        },
        {
          "data": {
            "image/png": "[encoded data removed]",
            "text/plain": [
              "<Figure size 720x432 with 1 Axes>"
            ]
          },
          "metadata": {
            "needs_background": "light"
          },
          "output_type": "display_data"
        }
      ],
      "source": [
        "n_cluster = modeller.optimize_clusters_number(x_lsa)"
      ]
    },
    {
      "cell_type": "code",
      "execution_count": 49,
      "id": "oIN2hITA1zDN",
      "metadata": {
        "colab": {
          "base_uri": "https://localhost:8080/"
        },
        "id": "oIN2hITA1zDN",
        "outputId": "d331d4f0-32fd-4d22-93a9-a5a03fd09706"
      },
      "outputs": [
        {
          "data": {
            "text/plain": [
              "array([ 3.90199503e-01, -1.76174463e-01, -7.39256367e-02, -9.48350858e-02,\n",
              "        3.03746231e-02, -2.45208346e-02,  2.47428438e-02,  4.93759439e-02,\n",
              "        1.10664094e-01,  2.25187055e-01, -2.84572704e-01,  1.64530380e-02,\n",
              "       -3.35978548e-04,  1.43693143e-02, -2.99558003e-02,  4.30300082e-02,\n",
              "       -3.49783574e-02, -1.38762260e-02,  2.14818755e-02, -5.00336476e-02,\n",
              "       -1.02107414e-01,  7.13030523e-02, -3.63285486e-02, -1.08374590e-01,\n",
              "       -1.52628675e-01, -1.16647718e-01,  9.21815317e-02, -9.74009375e-02,\n",
              "       -1.20399472e-01, -1.17414311e-01,  6.72771417e-02, -8.24570864e-04,\n",
              "       -4.53235715e-02, -4.05301238e-02,  7.12595803e-02, -3.94177251e-02,\n",
              "        3.58180136e-02,  1.02843699e-02, -1.91463887e-01, -3.68418680e-02,\n",
              "        1.68805217e-01, -1.00596229e-01,  1.50831883e-01,  7.34973081e-02,\n",
              "       -4.31293759e-03, -1.35178523e-01,  1.10919517e-01, -1.76486735e-01,\n",
              "        1.26076695e-02,  5.92609036e-02, -7.51256401e-02,  9.19325041e-02,\n",
              "       -8.12208063e-02, -7.98284856e-02, -1.13857849e-01, -1.96846172e-02,\n",
              "        9.32530582e-02, -1.09844579e-01,  5.52137957e-02,  3.15346908e-02,\n",
              "        1.33055383e-01,  8.83877101e-02,  1.21600186e-01, -9.30246788e-02,\n",
              "        1.11756348e-02, -1.21817580e-01, -1.67647673e-03, -5.39162024e-02,\n",
              "        3.62568368e-02,  1.84670845e-02,  1.86624692e-01,  3.62645793e-02,\n",
              "       -3.26441770e-02, -1.69472088e-02, -1.48223701e-01,  6.56962226e-02,\n",
              "        1.69449534e-03,  1.04457080e-01,  1.70768266e-02, -4.59322408e-02,\n",
              "        2.59057153e-02, -4.22029601e-02, -7.53710706e-02, -1.94882624e-01,\n",
              "        1.41538608e-01, -1.35266966e-01,  3.58835623e-02, -1.75889231e-02,\n",
              "        8.60855257e-02, -4.82577769e-02,  3.97829476e-02, -1.11779883e-02,\n",
              "       -8.66517949e-02,  8.71419003e-02, -1.22284883e-01,  3.66526011e-02,\n",
              "        3.56044287e-02, -1.42851967e-02,  9.01269739e-03, -8.18618722e-02])"
            ]
          },
          "execution_count": 49,
          "metadata": {},
          "output_type": "execute_result"
        }
      ],
      "source": [
        "x_lsa[0]"
      ]
    },
    {
      "cell_type": "code",
      "execution_count": 71,
      "id": "gwsU2akMYLgR",
      "metadata": {
        "colab": {
          "base_uri": "https://localhost:8080/"
        },
        "id": "gwsU2akMYLgR",
        "outputId": "b0dc90ff-bf2b-42e9-d6d0-7bfe1f7124f3"
      },
      "outputs": [
        {
          "name": "stdout",
          "output_type": "stream",
          "text": [
            "Cluster 0: just don think like know people time does did good Cluster 1: graphics thanks image file files know format program help looking Cluster 2: god jesus people believe bible don christian say think religion Cluster 3: space nasa shuttle launch orbit moon mission earth like cost "
          ]
        }
      ],
      "source": [
        "modeller.cluster_texts(x_lsa, 4, lsa, vectorizer)"
      ]
    }
  ],
  "metadata": {
    "colab": {
      "provenance": []
    },
    "kernelspec": {
      "display_name": "nlp_assist",
      "language": "python",
      "name": "python3"
    },
    "language_info": {
      "codemirror_mode": {
        "name": "ipython",
        "version": 3
      },
      "file_extension": ".py",
      "mimetype": "text/x-python",
      "name": "python",
      "nbconvert_exporter": "python",
      "pygments_lexer": "ipython3",
      "version": "3.7.16 (default, Jan 17 2023, 16:06:28) [MSC v.1916 64 bit (AMD64)]"
    },
    "vscode": {
      "interpreter": {
        "hash": "62a947cc0321b6ef74d2a918ae1830c8f2a06d1e8042159e7eadd9186ed6c2ee"
      }
    }
  },
  "nbformat": 4,
  "nbformat_minor": 5
}
