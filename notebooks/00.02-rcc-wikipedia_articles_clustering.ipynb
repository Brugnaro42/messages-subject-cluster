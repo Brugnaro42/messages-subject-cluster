{
 "cells": [
  {
   "cell_type": "markdown",
   "id": "4a6fa7d0",
   "metadata": {},
   "source": [
    "## Wikipedia Articles Clustering (NLP)\n",
    "`EDA (Exploratory Data Analysis)`\n",
    "\n",
    "**Abstract**: We load data from The 20 newsgroups text dataset, which comprises around 18,000 newsgroups posts on 20 topics. For illustrative purposes and to reduce the computational cost, we select a subset of 4 topics only accounting for around 3,400 documents. See the example Classification of text documents using sparse features to gain intuition on the overlap of such topics. <br>\n",
    "**Source**: https://scikit-learn.org/stable/datasets/real_world.html#newsgroups-dataset"
   ]
  },
  {
   "cell_type": "code",
   "execution_count": 1,
   "id": "1271356d",
   "metadata": {},
   "outputs": [],
   "source": [
    "# Loading libraries\n",
    "import pandas as pd\n",
    "import numpy as np\n",
    "import seaborn as sns\n",
    "import nltk\n",
    "from sklearn import metrics\n",
    "from time import time\n",
    "from sklearn.datasets import fetch_20newsgroups\n",
    "import matplotlib.pyplot as plt\n",
    "# nltk.download('stopwords')"
   ]
  },
  {
   "cell_type": "code",
   "execution_count": 2,
   "id": "17c608bf",
   "metadata": {},
   "outputs": [],
   "source": [
    "# Initial setting\n",
    "pd.set_option('display.float_format', lambda x: '%.2f' % x)\n",
    "pd.options.display.max_colwidth = 100\n",
    "pd.set_option('display.max_columns', None)"
   ]
  },
  {
   "cell_type": "code",
   "execution_count": 3,
   "id": "90de5276",
   "metadata": {},
   "outputs": [
    {
     "name": "stdout",
     "output_type": "stream",
     "text": [
      "3387 documents - 4 categories\n"
     ]
    }
   ],
   "source": [
    "# Loading the Data\n",
    "categories = [\n",
    "    \"alt.atheism\",\n",
    "    \"talk.religion.misc\",\n",
    "    \"comp.graphics\",\n",
    "    \"sci.space\",\n",
    "]\n",
    "\n",
    "dataset = fetch_20newsgroups(\n",
    "    remove=(\"headers\", \"footers\", \"quotes\"),\n",
    "    subset=\"all\",\n",
    "    categories=categories,\n",
    "    shuffle=True,\n",
    "    random_state=42,\n",
    ")\n",
    "\n",
    "labels = dataset.target\n",
    "unique_labels, category_sizes = np.unique(labels, return_counts=True)\n",
    "true_k = unique_labels.shape[0]\n",
    "\n",
    "print(f\"{len(dataset.data)} documents - {true_k} categories\")"
   ]
  },
  {
   "cell_type": "code",
   "execution_count": 4,
   "id": "2dd33c73",
   "metadata": {
    "scrolled": true
   },
   "outputs": [
    {
     "data": {
      "text/html": [
       "<div>\n",
       "<style scoped>\n",
       "    .dataframe tbody tr th:only-of-type {\n",
       "        vertical-align: middle;\n",
       "    }\n",
       "\n",
       "    .dataframe tbody tr th {\n",
       "        vertical-align: top;\n",
       "    }\n",
       "\n",
       "    .dataframe thead th {\n",
       "        text-align: right;\n",
       "    }\n",
       "</style>\n",
       "<table border=\"1\" class=\"dataframe\">\n",
       "  <thead>\n",
       "    <tr style=\"text-align: right;\">\n",
       "      <th></th>\n",
       "      <th>text</th>\n",
       "      <th>target</th>\n",
       "      <th>title</th>\n",
       "    </tr>\n",
       "  </thead>\n",
       "  <tbody>\n",
       "    <tr>\n",
       "      <th>0</th>\n",
       "      <td>My point is that you set up your views as the only way to believe.  Saying \\nthat all eveil in t...</td>\n",
       "      <td>0</td>\n",
       "      <td>alt.atheism</td>\n",
       "    </tr>\n",
       "    <tr>\n",
       "      <th>9</th>\n",
       "      <td>\\n]The \"corrupted over and over\" theory is pretty weak.  Comparison of the\\n]current hebrew tex...</td>\n",
       "      <td>0</td>\n",
       "      <td>alt.atheism</td>\n",
       "    </tr>\n",
       "    <tr>\n",
       "      <th>14</th>\n",
       "      <td>\\n\\nBut, you wouldn't know what red *was*, and you certainly couldn't judge\\nit subjectively.  A...</td>\n",
       "      <td>0</td>\n",
       "      <td>alt.atheism</td>\n",
       "    </tr>\n",
       "    <tr>\n",
       "      <th>26</th>\n",
       "      <td>\\n\\nWell I agree with you in the sense that they have no \"moral\" right to inflict\\nthese rules, ...</td>\n",
       "      <td>0</td>\n",
       "      <td>alt.atheism</td>\n",
       "    </tr>\n",
       "    <tr>\n",
       "      <th>27</th>\n",
       "      <td>\\n\\nSpecifically, which changes are you talking about?  Are you arguing\\nthat the motto is inter...</td>\n",
       "      <td>0</td>\n",
       "      <td>alt.atheism</td>\n",
       "    </tr>\n",
       "  </tbody>\n",
       "</table>\n",
       "</div>"
      ],
      "text/plain": [
       "                                                                                                   text  \\\n",
       "0   My point is that you set up your views as the only way to believe.  Saying \\nthat all eveil in t...   \n",
       "9    \\n]The \"corrupted over and over\" theory is pretty weak.  Comparison of the\\n]current hebrew tex...   \n",
       "14  \\n\\nBut, you wouldn't know what red *was*, and you certainly couldn't judge\\nit subjectively.  A...   \n",
       "26  \\n\\nWell I agree with you in the sense that they have no \"moral\" right to inflict\\nthese rules, ...   \n",
       "27  \\n\\nSpecifically, which changes are you talking about?  Are you arguing\\nthat the motto is inter...   \n",
       "\n",
       "   target        title  \n",
       "0       0  alt.atheism  \n",
       "9       0  alt.atheism  \n",
       "14      0  alt.atheism  \n",
       "26      0  alt.atheism  \n",
       "27      0  alt.atheism  "
      ]
     },
     "execution_count": 4,
     "metadata": {},
     "output_type": "execute_result"
    }
   ],
   "source": [
    "# Building a DataFrame structure\n",
    "df = pd.DataFrame([dataset.data, dataset.target.tolist()]).T\n",
    "df.columns = ['text', 'target']\n",
    "\n",
    "# Gathering the target names indexes\n",
    "targets = pd.DataFrame(dataset.target_names)\n",
    "targets.columns=['title']\n",
    "\n",
    "# Joining all the data into a single dataset\n",
    "out = pd.merge(df, targets, left_on='target', right_index=True)\n",
    "out.head()"
   ]
  },
  {
   "cell_type": "markdown",
   "id": "768681a8",
   "metadata": {},
   "source": [
    "### Feature Extraction using TfidfVectorizer"
   ]
  },
  {
   "cell_type": "code",
   "execution_count": 5,
   "id": "6fa68939",
   "metadata": {},
   "outputs": [
    {
     "name": "stdout",
     "output_type": "stream",
     "text": [
      "vectorization done in 0.331 s\n",
      "n_samples: 3387, n_features: 7929\n"
     ]
    }
   ],
   "source": [
    "from sklearn.feature_extraction.text import TfidfVectorizer\n",
    "\n",
    "# TfidfVectorizer application\n",
    "vectorizer = TfidfVectorizer(\n",
    "    max_df=0.5,\n",
    "    min_df=5,\n",
    "    stop_words=\"english\",\n",
    ")\n",
    "t0 = time()\n",
    "X_tfidf = vectorizer.fit_transform(dataset.data)\n",
    "\n",
    "print(f\"vectorization done in {time() - t0:.3f} s\")\n",
    "print(f\"n_samples: {X_tfidf.shape[0]}, n_features: {X_tfidf.shape[1]}\")"
   ]
  },
  {
   "cell_type": "code",
   "execution_count": 6,
   "id": "31254402",
   "metadata": {},
   "outputs": [
    {
     "name": "stdout",
     "output_type": "stream",
     "text": [
      "We find that around 0.69% of the entries of the X_tfidf matrix are non-zero\n"
     ]
    }
   ],
   "source": [
    "# Fulfillness\n",
    "print(f\"We find that around {round(X_tfidf.nnz / np.prod(X_tfidf.shape)*100, 2):.2f}% of the entries of the X_tfidf matrix are non-zero\")"
   ]
  },
  {
   "cell_type": "markdown",
   "id": "19ae3fa5",
   "metadata": {},
   "source": [
    "### Performing dimensionality reduction using LSA"
   ]
  },
  {
   "cell_type": "markdown",
   "id": "bf5f17dd",
   "metadata": {},
   "source": [
    "We use TruncatedSVD, which works on term count/tf-idf matrices. Since SVD results are not normalized, we redo the normalization to improve the KMeans result. Using SVD to reduce the dimensionality of TF-IDF document vectors is often known as latent semantic analysis (LSA) in the information retrieval and text mining literature."
   ]
  },
  {
   "cell_type": "code",
   "execution_count": 7,
   "id": "54da1f90",
   "metadata": {},
   "outputs": [],
   "source": [
    "from sklearn.decomposition import TruncatedSVD\n",
    "from sklearn.pipeline import make_pipeline\n",
    "from sklearn.preprocessing import Normalizer\n",
    "from sklearn.cluster import KMeans\n",
    "\n",
    "# Set searborn\n",
    "# sns.set()\n",
    "\n",
    "# Instance of SVD\n",
    "svd = TruncatedSVD(X_tfidf.shape[1] - 1)\n",
    "\n",
    "# Making a pipeline for applying LSA (dimensionality reduction), and normalizing the data\n",
    "pipeline = make_pipeline(svd, Normalizer(copy=False))"
   ]
  },
  {
   "cell_type": "code",
   "execution_count": 8,
   "id": "f184dbd2",
   "metadata": {},
   "outputs": [
    {
     "data": {
      "image/png": "[encoded data removed]",
      "text/plain": [
       "<Figure size 576x432 with 1 Axes>"
      ]
     },
     "metadata": {
      "needs_background": "light"
     },
     "output_type": "display_data"
    }
   ],
   "source": [
    "# Pipeline Fit\n",
    "pipeline.fit(X_tfidf)\n",
    "\n",
    "# LSA plot - Explained Variance Ratio\n",
    "features  = range(1, len(svd.components_))\n",
    "plt.figure(figsize=(8, 6))\n",
    "plt.bar(features, svd.explained_variance_ratio_[1:])\n",
    "plt.xlabel('SVD Features')\n",
    "plt.ylabel('Variances')\n",
    "plt.title('Variance per SVD Feature')\n",
    "# plt.xticks(features, rotation= 90)\n",
    "plt.show()"
   ]
  },
  {
   "cell_type": "code",
   "execution_count": 9,
   "id": "1136bb87",
   "metadata": {},
   "outputs": [
    {
     "data": {
      "image/png": "[encoded data removed]",
      "text/plain": [
       "<Figure size 576x360 with 1 Axes>"
      ]
     },
     "metadata": {
      "needs_background": "light"
     },
     "output_type": "display_data"
    }
   ],
   "source": [
    "# Plotting the result\n",
    "plt.figure(figsize=(8, 5))\n",
    "\n",
    "# Alternative way to upgrade the procedure performed above\n",
    "plt.plot(range(0, X_tfidf.shape[0]), svd.explained_variance_ratio_.cumsum()*100, marker= 'o', linestyle = '--', color = 'b')\n",
    "\n",
    "plt.xlabel('Number of Components')\n",
    "plt.ylabel('Cumulative Sum of Variance (%)')\n",
    "plt.title('Optimized number of components SVD')\n",
    "# plt.xticks(np.arange(0, max(variance['index']), step=1), rotation = 90) #change from 0-based array index to 1-based human-readable label\n",
    "\n",
    "plt.axhline(y= 80, color='r', linestyle='-')\n",
    "plt.text(30, 82, '80% cut-off threshold', color = 'red', fontsize=10)\n",
    "\n",
    "plt.show()"
   ]
  },
  {
   "cell_type": "code",
   "execution_count": 10,
   "id": "640d78d0",
   "metadata": {},
   "outputs": [],
   "source": [
    "# List of explained variances\n",
    "tsvd_var_ratios = svd.explained_variance_ratio_"
   ]
  },
  {
   "cell_type": "code",
   "execution_count": 11,
   "id": "3704abf2",
   "metadata": {},
   "outputs": [],
   "source": [
    "# Create a function\n",
    "def select_n_components(var_ratio, goal_var: float) -> int:\n",
    "    # Set initial variance explained so far\n",
    "    total_variance = 0.0\n",
    "    \n",
    "    # Set initial number of features\n",
    "    n_components = 0\n",
    "    \n",
    "    # For the explained variance of each feature:\n",
    "    for explained_variance in var_ratio:\n",
    "        \n",
    "        # Add the explained variance to the total\n",
    "        total_variance += explained_variance\n",
    "        \n",
    "        # Add one to the number of components\n",
    "        n_components += 1\n",
    "        \n",
    "        # If we reach our goal level of explained variance\n",
    "        if total_variance >= goal_var:\n",
    "            # End the loop\n",
    "            break\n",
    "            \n",
    "    # Return the number of components\n",
    "    return n_components"
   ]
  },
  {
   "cell_type": "code",
   "execution_count": 12,
   "id": "b93a712d",
   "metadata": {},
   "outputs": [
    {
     "name": "stdout",
     "output_type": "stream",
     "text": [
      "Optimized number of components: 1298\n"
     ]
    }
   ],
   "source": [
    "# Run function\n",
    "print(f'Optimized number of components: {select_n_components(tsvd_var_ratios, 0.80)}')"
   ]
  },
  {
   "cell_type": "code",
   "execution_count": 13,
   "id": "876c8fcd",
   "metadata": {},
   "outputs": [
    {
     "name": "stdout",
     "output_type": "stream",
     "text": [
      "LSA done in 18.794 s\n",
      "Explained variance of the SVD step: 79.7%\n"
     ]
    }
   ],
   "source": [
    "# Using the optimized number of components\n",
    "lsa = make_pipeline(TruncatedSVD(n_components= select_n_components(tsvd_var_ratios, 0.80)), Normalizer(copy=False))\n",
    "t0 = time()\n",
    "X_lsa = lsa.fit_transform(X_tfidf)\n",
    "explained_variance = lsa[0].explained_variance_ratio_.sum()\n",
    "\n",
    "print(f\"LSA done in {time() - t0:.3f} s\")\n",
    "print(f\"Explained variance of the SVD step: {explained_variance * 100:.1f}%\")"
   ]
  },
  {
   "cell_type": "code",
   "execution_count": 14,
   "id": "978fee55",
   "metadata": {},
   "outputs": [
    {
     "name": "stdout",
     "output_type": "stream",
     "text": [
      "LSA done in 0.352 s\n",
      "Explained variance of the SVD step: 18.4%\n"
     ]
    }
   ],
   "source": [
    "# For LSA, a value of 100 is recommended by the literature\n",
    "lsa = make_pipeline(TruncatedSVD(n_components= 100), Normalizer(copy=False))\n",
    "t0 = time()\n",
    "X_lsa = lsa.fit_transform(X_tfidf)\n",
    "explained_variance = lsa[0].explained_variance_ratio_.sum()\n",
    "\n",
    "print(f\"LSA done in {time() - t0:.3f} s\")\n",
    "print(f\"Explained variance of the SVD step: {explained_variance * 100:.1f}%\")"
   ]
  },
  {
   "cell_type": "markdown",
   "id": "5bcf032a",
   "metadata": {},
   "source": [
    "### Performing K-Means clustering"
   ]
  },
  {
   "cell_type": "markdown",
   "id": "88c95e73",
   "metadata": {},
   "source": [
    "We'll use the `Elbow Method` to define the optimized number of clusters, as follows"
   ]
  },
  {
   "cell_type": "code",
   "execution_count": 15,
   "id": "8bafd84d",
   "metadata": {},
   "outputs": [
    {
     "data": {
      "image/png": "[encoded data removed]",
      "text/plain": [
       "<Figure size 576x432 with 1 Axes>"
      ]
     },
     "metadata": {
      "needs_background": "light"
     },
     "output_type": "display_data"
    }
   ],
   "source": [
    "# Initializing parameters\n",
    "ks = range(2, 16)\n",
    "inertias = []\n",
    "n_cluster = []\n",
    "ss_indexes = []\n",
    "\n",
    "for k in ks:\n",
    "    # K-Means instance\n",
    "    model = KMeans(n_clusters = k, random_state= 12345)\n",
    "    \n",
    "    # Model Fit\n",
    "    model.fit(X_lsa)\n",
    "    \n",
    "    # Inertia and labels append\n",
    "    inertias.append(model.inertia_)\n",
    "    labels = model.labels_\n",
    "        \n",
    "    # Silhouette Score\n",
    "    ss_index = metrics.silhouette_score(X_lsa, labels)\n",
    "    n_cluster.append(k)\n",
    "    ss_indexes.append(ss_index)\n",
    "\n",
    "# Building the dataframe containing number of cluster per Silhouette Score\n",
    "df_ss = pd.DataFrame({'n_cluster': n_cluster, 'ss_indexes': ss_indexes})\n",
    "    \n",
    "# Plot ks vs inertias\n",
    "plt.figure(figsize=(8, 6))\n",
    "plt.plot(ks, inertias, '-o');\n",
    "plt.xlabel('Number of Clusters')\n",
    "plt.ylabel('Distortion/InertiaDistorção/Inércia')\n",
    "plt.title('Elbow Method')\n",
    "plt.xticks(ks)\n",
    "plt.show();"
   ]
  },
  {
   "cell_type": "markdown",
   "id": "61cde53c",
   "metadata": {},
   "source": [
    "Considering the intersection of the tangent lines of the curve above we can consider **4 (FOUR)** as the `Optimized Number of Clusters` illustrated above"
   ]
  },
  {
   "cell_type": "code",
   "execution_count": 16,
   "id": "96c3a55b",
   "metadata": {},
   "outputs": [
    {
     "data": {
      "image/jpeg": "[encoded data removed]",
      "text/plain": [
       "<IPython.core.display.Image object>"
      ]
     },
     "execution_count": 16,
     "metadata": {
      "image/jpeg": {
       "height": 200,
       "width": 500
      }
     },
     "output_type": "execute_result"
    }
   ],
   "source": [
    "from IPython.display import Image\n",
    "Image(filename= r\"C:\\Users\\016529631\\Pictures\\elbow method.JPG\",\n",
    "     width = 500,\n",
    "     height = 200)"
   ]
  },
  {
   "cell_type": "markdown",
   "id": "db4baa53",
   "metadata": {},
   "source": [
    "Another alternative way corresponds to the use of the `Silhouette Score` for defining the optimal cluster number"
   ]
  },
  {
   "cell_type": "code",
   "execution_count": 17,
   "id": "b13b9df4",
   "metadata": {},
   "outputs": [],
   "source": [
    "# Local Maximum procedure\n",
    "from scipy.signal import argrelextrema\n",
    "\n",
    "# Collecting local maxima\n",
    "max_ind = argrelextrema(df_ss['ss_indexes'].to_numpy(), np.greater)\n",
    "n_clusters = df_ss['n_cluster'].iloc[max_ind].max()\n",
    "\n",
    "# If there are no local maxima, the optimized number of clusters is defined according to the global maximum, \n",
    "# that is, considering the extremities\n",
    "if np.isnan(n_clusters):\n",
    "    n_clusters = df_ss.loc[df_ss['ss_indexes'] == df_ss['ss_indexes'].max()]['n_cluster'].to_list()[0]"
   ]
  },
  {
   "cell_type": "code",
   "execution_count": 18,
   "id": "6ed808df",
   "metadata": {},
   "outputs": [
    {
     "data": {
      "image/png": "[encoded data removed]",
      "text/plain": [
       "<Figure size 720x432 with 1 Axes>"
      ]
     },
     "metadata": {},
     "output_type": "display_data"
    }
   ],
   "source": [
    "# Plotting figure\n",
    "sns.set(rc = {'figure.figsize':(10, 6)})\n",
    "sns.lineplot(data = df_ss, x = 'n_cluster', y = 'ss_indexes', legend = 'brief');"
   ]
  },
  {
   "cell_type": "markdown",
   "id": "9ff35c3a",
   "metadata": {},
   "source": [
    "### K-Means model output"
   ]
  },
  {
   "cell_type": "code",
   "execution_count": 19,
   "id": "084e15fe",
   "metadata": {},
   "outputs": [
    {
     "data": {
      "text/plain": [
       "KMeans(n_clusters=4, random_state=12345)"
      ]
     },
     "execution_count": 19,
     "metadata": {},
     "output_type": "execute_result"
    }
   ],
   "source": [
    "# K-Means instance\n",
    "kmeans = KMeans(n_clusters = 4, random_state= 12345)\n",
    "\n",
    "# Model Fit\n",
    "kmeans.fit(X_lsa)"
   ]
  },
  {
   "cell_type": "code",
   "execution_count": 20,
   "id": "c4b58ebb",
   "metadata": {},
   "outputs": [
    {
     "name": "stdout",
     "output_type": "stream",
     "text": [
      "Cluster 0: don think people just like know say time religion did \n",
      "Cluster 1: space launch orbit nasa shuttle earth moon like mission just \n",
      "Cluster 2: thanks graphics image program know file files looking software does \n",
      "Cluster 3: god jesus bible believe say faith people christian does belief \n"
     ]
    }
   ],
   "source": [
    "original_space_centroids = lsa[0].inverse_transform(kmeans.cluster_centers_)\n",
    "order_centroids = original_space_centroids.argsort()[:, ::-1]\n",
    "terms = vectorizer.get_feature_names_out()\n",
    "\n",
    "for i in range(true_k):\n",
    "    print(f\"Cluster {i}: \", end=\"\")\n",
    "    for ind in order_centroids[i, :10]:\n",
    "        print(f\"{terms[ind]} \", end=\"\")\n",
    "    print()"
   ]
  },
  {
   "cell_type": "code",
   "execution_count": null,
   "id": "e7a6a743",
   "metadata": {},
   "outputs": [],
   "source": []
  },
  {
   "cell_type": "code",
   "execution_count": null,
   "id": "82331390",
   "metadata": {},
   "outputs": [],
   "source": []
  },
  {
   "cell_type": "code",
   "execution_count": null,
   "id": "e2d17093",
   "metadata": {},
   "outputs": [],
   "source": []
  }
 ],
 "metadata": {
  "kernelspec": {
   "display_name": "Python 3",
   "language": "python",
   "name": "python3"
  },
  "language_info": {
   "codemirror_mode": {
    "name": "ipython",
    "version": 3
   },
   "file_extension": ".py",
   "mimetype": "text/x-python",
   "name": "python",
   "nbconvert_exporter": "python",
   "pygments_lexer": "ipython3",
   "version": "3.9.4 (tags/v3.9.4:1f2e308, Apr  4 2021, 13:27:16) [MSC v.1928 64 bit (AMD64)]"
  },
  "vscode": {
   "interpreter": {
    "hash": "81794d4967e6c3204c66dcd87b604927b115b27c00565d3d43f05ba2f3a2cb0d"
   }
  }
 },
 "nbformat": 4,
 "nbformat_minor": 5
}
